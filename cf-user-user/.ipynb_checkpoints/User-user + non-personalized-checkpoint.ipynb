{
 "cells": [
  {
   "cell_type": "markdown",
   "id": "dc6da583-a2f1-4cd3-be9d-0d4fa90e1128",
   "metadata": {},
   "source": [
    "## Bibliotecas"
   ]
  },
  {
   "cell_type": "code",
   "execution_count": 1,
   "id": "f0afb306-95f9-45dd-a09b-dd8ff8587db1",
   "metadata": {},
   "outputs": [],
   "source": [
    "import numpy as np\n",
    "import pandas as pd"
   ]
  },
  {
   "cell_type": "markdown",
   "id": "8ec8cace-4728-4381-8f56-628ea2040b50",
   "metadata": {},
   "source": [
    "## Leitura dos dados"
   ]
  },
  {
   "cell_type": "code",
   "execution_count": 2,
   "id": "391caf61-0aee-42f2-8bcb-16cdb4340950",
   "metadata": {},
   "outputs": [
    {
     "data": {
      "text/html": [
       "<div>\n",
       "<style scoped>\n",
       "    .dataframe tbody tr th:only-of-type {\n",
       "        vertical-align: middle;\n",
       "    }\n",
       "\n",
       "    .dataframe tbody tr th {\n",
       "        vertical-align: top;\n",
       "    }\n",
       "\n",
       "    .dataframe thead th {\n",
       "        text-align: right;\n",
       "    }\n",
       "</style>\n",
       "<table border=\"1\" class=\"dataframe\">\n",
       "  <thead>\n",
       "    <tr style=\"text-align: right;\">\n",
       "      <th></th>\n",
       "      <th>UserId:ItemId</th>\n",
       "      <th>Rating</th>\n",
       "    </tr>\n",
       "  </thead>\n",
       "  <tbody>\n",
       "    <tr>\n",
       "      <th>0</th>\n",
       "      <td>4baf0ac888:8b05db84f2</td>\n",
       "      <td>3</td>\n",
       "    </tr>\n",
       "    <tr>\n",
       "      <th>1</th>\n",
       "      <td>f3364fd7e6:8b05db84f2</td>\n",
       "      <td>2</td>\n",
       "    </tr>\n",
       "    <tr>\n",
       "      <th>2</th>\n",
       "      <td>72a8982204:8b05db84f2</td>\n",
       "      <td>5</td>\n",
       "    </tr>\n",
       "    <tr>\n",
       "      <th>3</th>\n",
       "      <td>d0171f7a9d:e40cec3cbe</td>\n",
       "      <td>5</td>\n",
       "    </tr>\n",
       "    <tr>\n",
       "      <th>4</th>\n",
       "      <td>e6dad08499:e40cec3cbe</td>\n",
       "      <td>5</td>\n",
       "    </tr>\n",
       "  </tbody>\n",
       "</table>\n",
       "</div>"
      ],
      "text/plain": [
       "           UserId:ItemId  Rating\n",
       "0  4baf0ac888:8b05db84f2       3\n",
       "1  f3364fd7e6:8b05db84f2       2\n",
       "2  72a8982204:8b05db84f2       5\n",
       "3  d0171f7a9d:e40cec3cbe       5\n",
       "4  e6dad08499:e40cec3cbe       5"
      ]
     },
     "execution_count": 2,
     "metadata": {},
     "output_type": "execute_result"
    }
   ],
   "source": [
    "avaliacoes = pd.read_csv(\"ratings.csv\")\n",
    "avaliacoes.head()"
   ]
  },
  {
   "cell_type": "markdown",
   "id": "faf48f30-32d3-41ad-ac28-d6d316d5fcc4",
   "metadata": {},
   "source": [
    "## Pré-processamento"
   ]
  },
  {
   "cell_type": "code",
   "execution_count": 3,
   "id": "b647fd50-fa9d-4a9d-8658-10b8fbd8375d",
   "metadata": {},
   "outputs": [],
   "source": [
    "novas_colunas = avaliacoes[\"UserId:ItemId\"].str.split(\":\", n = 1, expand = True)\n",
    "\n",
    "avaliacoes[\"UserId\"]= novas_colunas[0] \n",
    "avaliacoes[\"ItemId\"]= novas_colunas[1] \n",
    "avaliacoes.drop(columns =[\"UserId:ItemId\"], inplace = True) "
   ]
  },
  {
   "cell_type": "code",
   "execution_count": 4,
   "id": "b9083a5a-cf44-4b0f-b159-5fd39b6eb907",
   "metadata": {},
   "outputs": [
    {
     "data": {
      "text/plain": [
       "ItemId\n",
       "0000c77f48    5\n",
       "000215e0ca    1\n",
       "00022a9224    4\n",
       "0003d519bf    3\n",
       "0004b4d629    2\n",
       "             ..\n",
       "fffbc894ec    5\n",
       "fffce7315b    4\n",
       "fffd938521    3\n",
       "fffe241def    2\n",
       "fffe850a56    5\n",
       "Name: Rating, Length: 83767, dtype: int64"
      ]
     },
     "execution_count": 4,
     "metadata": {},
     "output_type": "execute_result"
    }
   ],
   "source": [
    "itens_media = avaliacoes.groupby('ItemId')['Rating'].mean()\n",
    "itens_media = itens_media.round().astype(int)\n",
    "itens_media"
   ]
  },
  {
   "cell_type": "code",
   "execution_count": 5,
   "id": "e1e7412a-00e4-4080-a54d-a462838235f7",
   "metadata": {},
   "outputs": [],
   "source": [
    "media_usuarios = avaliacoes.groupby('UserId')['Rating'].mean()"
   ]
  },
  {
   "cell_type": "code",
   "execution_count": 6,
   "id": "3c37deda-bf66-46f6-9905-0d785cecdd45",
   "metadata": {},
   "outputs": [],
   "source": [
    "media_usuarios_coluna = avaliacoes.groupby('UserId')['Rating'].transform('mean')"
   ]
  },
  {
   "cell_type": "code",
   "execution_count": 7,
   "id": "d90b5886-4a2c-45ef-8d39-cdf093ee770e",
   "metadata": {},
   "outputs": [],
   "source": [
    "avaliacoes['Rating - Mean'] = avaliacoes['Rating'] - media_usuarios_coluna"
   ]
  },
  {
   "cell_type": "code",
   "execution_count": 8,
   "id": "411edd41-76e4-4681-998c-da1b3408e10a",
   "metadata": {},
   "outputs": [
    {
     "data": {
      "text/html": [
       "<div>\n",
       "<style scoped>\n",
       "    .dataframe tbody tr th:only-of-type {\n",
       "        vertical-align: middle;\n",
       "    }\n",
       "\n",
       "    .dataframe tbody tr th {\n",
       "        vertical-align: top;\n",
       "    }\n",
       "\n",
       "    .dataframe thead th {\n",
       "        text-align: right;\n",
       "    }\n",
       "</style>\n",
       "<table border=\"1\" class=\"dataframe\">\n",
       "  <thead>\n",
       "    <tr style=\"text-align: right;\">\n",
       "      <th></th>\n",
       "      <th>Rating</th>\n",
       "      <th>UserId</th>\n",
       "      <th>ItemId</th>\n",
       "      <th>Rating - Mean</th>\n",
       "    </tr>\n",
       "  </thead>\n",
       "  <tbody>\n",
       "    <tr>\n",
       "      <th>0</th>\n",
       "      <td>3</td>\n",
       "      <td>4baf0ac888</td>\n",
       "      <td>8b05db84f2</td>\n",
       "      <td>-0.75</td>\n",
       "    </tr>\n",
       "    <tr>\n",
       "      <th>1</th>\n",
       "      <td>2</td>\n",
       "      <td>f3364fd7e6</td>\n",
       "      <td>8b05db84f2</td>\n",
       "      <td>0.50</td>\n",
       "    </tr>\n",
       "    <tr>\n",
       "      <th>2</th>\n",
       "      <td>5</td>\n",
       "      <td>72a8982204</td>\n",
       "      <td>8b05db84f2</td>\n",
       "      <td>0.00</td>\n",
       "    </tr>\n",
       "    <tr>\n",
       "      <th>3</th>\n",
       "      <td>5</td>\n",
       "      <td>d0171f7a9d</td>\n",
       "      <td>e40cec3cbe</td>\n",
       "      <td>0.00</td>\n",
       "    </tr>\n",
       "    <tr>\n",
       "      <th>4</th>\n",
       "      <td>5</td>\n",
       "      <td>e6dad08499</td>\n",
       "      <td>e40cec3cbe</td>\n",
       "      <td>1.00</td>\n",
       "    </tr>\n",
       "  </tbody>\n",
       "</table>\n",
       "</div>"
      ],
      "text/plain": [
       "   Rating      UserId      ItemId  Rating - Mean\n",
       "0       3  4baf0ac888  8b05db84f2          -0.75\n",
       "1       2  f3364fd7e6  8b05db84f2           0.50\n",
       "2       5  72a8982204  8b05db84f2           0.00\n",
       "3       5  d0171f7a9d  e40cec3cbe           0.00\n",
       "4       5  e6dad08499  e40cec3cbe           1.00"
      ]
     },
     "execution_count": 8,
     "metadata": {},
     "output_type": "execute_result"
    }
   ],
   "source": [
    "avaliacoes.head()"
   ]
  },
  {
   "cell_type": "code",
   "execution_count": 9,
   "id": "a50e1883-937a-4334-a55d-412b0e8908b1",
   "metadata": {},
   "outputs": [],
   "source": [
    "usuarios = set(avaliacoes.UserId.values)\n",
    "itens = set(avaliacoes.ItemId.values)"
   ]
  },
  {
   "cell_type": "code",
   "execution_count": 10,
   "id": "ea8c038a-36bb-4483-9756-ba462eceb564",
   "metadata": {},
   "outputs": [],
   "source": [
    "itens_para_usuarios = avaliacoes.groupby('ItemId')['UserId'].apply(list).to_dict()"
   ]
  },
  {
   "cell_type": "code",
   "execution_count": 11,
   "id": "2f27aea0-99ac-42c0-b6be-1b7770c2f64b",
   "metadata": {},
   "outputs": [],
   "source": [
    "avaliacoes_usuarios = {}\n",
    "\n",
    "for index, row in avaliacoes.iterrows():\n",
    "    user_id = row['UserId']\n",
    "    item_id = row['ItemId']\n",
    "    rating_norm = row['Rating - Mean']\n",
    "    \n",
    "    if user_id not in avaliacoes_usuarios:\n",
    "        avaliacoes_usuarios[user_id] = {}\n",
    "    \n",
    "    # Adicione o rating do item ao dicionário do usuário\n",
    "    avaliacoes_usuarios[user_id][item_id] = rating_norm"
   ]
  },
  {
   "cell_type": "code",
   "execution_count": 12,
   "id": "f5793265-b571-4171-b843-6d28bab51b46",
   "metadata": {},
   "outputs": [
    {
     "data": {
      "text/html": [
       "<div>\n",
       "<style scoped>\n",
       "    .dataframe tbody tr th:only-of-type {\n",
       "        vertical-align: middle;\n",
       "    }\n",
       "\n",
       "    .dataframe tbody tr th {\n",
       "        vertical-align: top;\n",
       "    }\n",
       "\n",
       "    .dataframe thead th {\n",
       "        text-align: right;\n",
       "    }\n",
       "</style>\n",
       "<table border=\"1\" class=\"dataframe\">\n",
       "  <thead>\n",
       "    <tr style=\"text-align: right;\">\n",
       "      <th></th>\n",
       "      <th>UserId:ItemId</th>\n",
       "    </tr>\n",
       "  </thead>\n",
       "  <tbody>\n",
       "    <tr>\n",
       "      <th>0</th>\n",
       "      <td>33ce7ee122:34cb28c370</td>\n",
       "    </tr>\n",
       "    <tr>\n",
       "      <th>1</th>\n",
       "      <td>eab9e065e5:34cb28c370</td>\n",
       "    </tr>\n",
       "    <tr>\n",
       "      <th>2</th>\n",
       "      <td>f785763291:34cb28c370</td>\n",
       "    </tr>\n",
       "    <tr>\n",
       "      <th>3</th>\n",
       "      <td>5f8185d75d:34cb28c370</td>\n",
       "    </tr>\n",
       "    <tr>\n",
       "      <th>4</th>\n",
       "      <td>0eeef87507:1dfcdde662</td>\n",
       "    </tr>\n",
       "  </tbody>\n",
       "</table>\n",
       "</div>"
      ],
      "text/plain": [
       "           UserId:ItemId\n",
       "0  33ce7ee122:34cb28c370\n",
       "1  eab9e065e5:34cb28c370\n",
       "2  f785763291:34cb28c370\n",
       "3  5f8185d75d:34cb28c370\n",
       "4  0eeef87507:1dfcdde662"
      ]
     },
     "execution_count": 12,
     "metadata": {},
     "output_type": "execute_result"
    }
   ],
   "source": [
    "alvos = pd.read_csv(\"targets.csv\")\n",
    "alvos.head()"
   ]
  },
  {
   "cell_type": "code",
   "execution_count": 13,
   "id": "096b7923-5ef0-473b-b15e-181176becf37",
   "metadata": {},
   "outputs": [],
   "source": [
    "novas_colunas = alvos[\"UserId:ItemId\"].str.split(\":\", n = 1, expand = True)\n",
    "alvos[\"UserId\"] = novas_colunas[0]\n",
    "alvos[\"ItemId\"]= novas_colunas[1] \n",
    "alvos.drop(\"UserId:ItemId\", axis = 1, inplace = True)"
   ]
  },
  {
   "cell_type": "code",
   "execution_count": 14,
   "id": "b44d52ce-f52b-4fe6-9c7f-290b524239d5",
   "metadata": {},
   "outputs": [
    {
     "data": {
      "text/plain": [
       "38644"
      ]
     },
     "execution_count": 14,
     "metadata": {},
     "output_type": "execute_result"
    }
   ],
   "source": [
    "len(alvos[\"UserId\"].unique())"
   ]
  },
  {
   "cell_type": "code",
   "execution_count": 15,
   "id": "d5e136b0-223b-4ebd-85b3-c4d7cc7af263",
   "metadata": {},
   "outputs": [
    {
     "data": {
      "text/html": [
       "<div>\n",
       "<style scoped>\n",
       "    .dataframe tbody tr th:only-of-type {\n",
       "        vertical-align: middle;\n",
       "    }\n",
       "\n",
       "    .dataframe tbody tr th {\n",
       "        vertical-align: top;\n",
       "    }\n",
       "\n",
       "    .dataframe thead th {\n",
       "        text-align: right;\n",
       "    }\n",
       "</style>\n",
       "<table border=\"1\" class=\"dataframe\">\n",
       "  <thead>\n",
       "    <tr style=\"text-align: right;\">\n",
       "      <th></th>\n",
       "      <th>UserId</th>\n",
       "      <th>ItemId</th>\n",
       "    </tr>\n",
       "  </thead>\n",
       "  <tbody>\n",
       "    <tr>\n",
       "      <th>0</th>\n",
       "      <td>33ce7ee122</td>\n",
       "      <td>34cb28c370</td>\n",
       "    </tr>\n",
       "    <tr>\n",
       "      <th>1</th>\n",
       "      <td>eab9e065e5</td>\n",
       "      <td>34cb28c370</td>\n",
       "    </tr>\n",
       "    <tr>\n",
       "      <th>2</th>\n",
       "      <td>f785763291</td>\n",
       "      <td>34cb28c370</td>\n",
       "    </tr>\n",
       "    <tr>\n",
       "      <th>3</th>\n",
       "      <td>5f8185d75d</td>\n",
       "      <td>34cb28c370</td>\n",
       "    </tr>\n",
       "    <tr>\n",
       "      <th>4</th>\n",
       "      <td>0eeef87507</td>\n",
       "      <td>1dfcdde662</td>\n",
       "    </tr>\n",
       "    <tr>\n",
       "      <th>...</th>\n",
       "      <td>...</td>\n",
       "      <td>...</td>\n",
       "    </tr>\n",
       "    <tr>\n",
       "      <th>49625</th>\n",
       "      <td>435f4de184</td>\n",
       "      <td>8dba6546ea</td>\n",
       "    </tr>\n",
       "    <tr>\n",
       "      <th>49626</th>\n",
       "      <td>7593b90096</td>\n",
       "      <td>43d5d80b1b</td>\n",
       "    </tr>\n",
       "    <tr>\n",
       "      <th>49627</th>\n",
       "      <td>88a5a164b1</td>\n",
       "      <td>43d5d80b1b</td>\n",
       "    </tr>\n",
       "    <tr>\n",
       "      <th>49628</th>\n",
       "      <td>90df18a22b</td>\n",
       "      <td>58c3b27fe2</td>\n",
       "    </tr>\n",
       "    <tr>\n",
       "      <th>49629</th>\n",
       "      <td>1892896766</td>\n",
       "      <td>f35bd0b55b</td>\n",
       "    </tr>\n",
       "  </tbody>\n",
       "</table>\n",
       "<p>49630 rows × 2 columns</p>\n",
       "</div>"
      ],
      "text/plain": [
       "           UserId      ItemId\n",
       "0      33ce7ee122  34cb28c370\n",
       "1      eab9e065e5  34cb28c370\n",
       "2      f785763291  34cb28c370\n",
       "3      5f8185d75d  34cb28c370\n",
       "4      0eeef87507  1dfcdde662\n",
       "...           ...         ...\n",
       "49625  435f4de184  8dba6546ea\n",
       "49626  7593b90096  43d5d80b1b\n",
       "49627  88a5a164b1  43d5d80b1b\n",
       "49628  90df18a22b  58c3b27fe2\n",
       "49629  1892896766  f35bd0b55b\n",
       "\n",
       "[49630 rows x 2 columns]"
      ]
     },
     "execution_count": 15,
     "metadata": {},
     "output_type": "execute_result"
    }
   ],
   "source": [
    "alvos"
   ]
  },
  {
   "cell_type": "code",
   "execution_count": 23,
   "id": "d7eb77ed-115f-40a0-bd45-7161f72ce48a",
   "metadata": {},
   "outputs": [
    {
     "data": {
      "text/plain": [
       "21"
      ]
     },
     "execution_count": 23,
     "metadata": {},
     "output_type": "execute_result"
    }
   ],
   "source": [
    "arq_saida = open(\"user_user_non_personalized_results.csv\", \"w\")\n",
    "arq_saida.write(\"UserId:ItemId,Rating\\n\")"
   ]
  },
  {
   "cell_type": "markdown",
   "id": "69824636-b4f5-4963-ad62-cd240d3a8e3b",
   "metadata": {},
   "source": [
    "## Filtragem Colaborativa User-User"
   ]
  },
  {
   "cell_type": "code",
   "execution_count": 24,
   "id": "5251f9b7-80f8-421e-a921-a030fe22ac2e",
   "metadata": {},
   "outputs": [],
   "source": [
    "def user_user_fc():\n",
    "\n",
    "    for linha in alvos.itertuples(index=False):\n",
    "    \n",
    "        item_alvo = linha[1]\n",
    "        usuario_alvo = linha[0]\n",
    "        usuarios_consumidores_item = itens_para_usuarios[item_alvo]\n",
    "    \n",
    "        numerador_avaliacao = 0\n",
    "        denominador_avaliacao = 0\n",
    "        \n",
    "        for usuario in usuarios_consumidores_item:\n",
    "    \n",
    "            numerador = 0\n",
    "            denominador1 = 0\n",
    "            denominador2 = 0\n",
    "            \n",
    "            itens_comuns = avaliacoes_usuarios[usuario_alvo].keys() & avaliacoes_usuarios[usuario].keys()\n",
    "            \n",
    "            for item in itens_comuns:\n",
    "                avaliacao_usuario_alvo = avaliacoes_usuarios[usuario_alvo][item]\n",
    "                avaliacao_usuario_consumidor = avaliacoes_usuarios[usuario][item]\n",
    "    \n",
    "                numerador += avaliacao_usuario_alvo*avaliacao_usuario_consumidor\n",
    "                denominador1 += avaliacao_usuario_alvo*avaliacao_usuario_alvo\n",
    "                denominador2 += avaliacao_usuario_consumidor*avaliacao_usuario_consumidor\n",
    "    \n",
    "            denominador = np.sqrt(denominador1)*np.sqrt(denominador2)\n",
    "    \n",
    "            if denominador != 0:  # Verifique se o denominador não é zero\n",
    "                similaridade = numerador / denominador\n",
    "            else:\n",
    "                similaridade = 0\n",
    "    \n",
    "            \n",
    "            numerador_avaliacao += similaridade * avaliacoes_usuarios[usuario][item_alvo]\n",
    "            denominador_avaliacao += abs(similaridade)\n",
    "        \n",
    "        avaliacao = 0\n",
    "    \n",
    "        if denominador_avaliacao != 0:\n",
    "            avaliacao += numerador_avaliacao/denominador_avaliacao + media_usuarios[usuario_alvo]\n",
    "        else:\n",
    "            avaliacao += itens_media[item_alvo]\n",
    "        \n",
    "        avaliacao = min(5, avaliacao)\n",
    "        avaliacao = max(1, avaliacao)\n",
    "        avaliacao = avaliacao\n",
    "        \n",
    "        arq_saida.write(linha[0] + \":\" + linha[1] + \",\" + str(avaliacao)+\"\\n\")"
   ]
  },
  {
   "cell_type": "code",
   "execution_count": 25,
   "id": "28d82be0-e9f2-4de7-8ae1-b78f0b89500b",
   "metadata": {},
   "outputs": [],
   "source": [
    "user_user_fc()\n",
    "arq_saida.close()"
   ]
  },
  {
   "cell_type": "code",
   "execution_count": null,
   "id": "d7091329-1a0b-44cd-bec0-23b65104f69b",
   "metadata": {},
   "outputs": [],
   "source": []
  }
 ],
 "metadata": {
  "kernelspec": {
   "display_name": "Python 3 (ipykernel)",
   "language": "python",
   "name": "python3"
  },
  "language_info": {
   "codemirror_mode": {
    "name": "ipython",
    "version": 3
   },
   "file_extension": ".py",
   "mimetype": "text/x-python",
   "name": "python",
   "nbconvert_exporter": "python",
   "pygments_lexer": "ipython3",
   "version": "3.10.12"
  }
 },
 "nbformat": 4,
 "nbformat_minor": 5
}
