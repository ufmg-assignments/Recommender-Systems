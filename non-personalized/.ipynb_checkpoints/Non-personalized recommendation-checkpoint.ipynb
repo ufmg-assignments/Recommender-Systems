{
 "cells": [
  {
   "cell_type": "markdown",
   "id": "637fbcc7-1d3e-4030-bcd7-16a401b34fbd",
   "metadata": {},
   "source": [
    "## Bibliotecas"
   ]
  },
  {
   "cell_type": "code",
   "execution_count": 1,
   "id": "eb3cd856",
   "metadata": {},
   "outputs": [],
   "source": [
    "import numpy as np\n",
    "import pandas as pd"
   ]
  },
  {
   "cell_type": "markdown",
   "id": "b2124324-25b7-4321-9ef1-5f42de811342",
   "metadata": {},
   "source": [
    "## Leitura dos dados"
   ]
  },
  {
   "cell_type": "code",
   "execution_count": 2,
   "id": "a4743818",
   "metadata": {},
   "outputs": [
    {
     "data": {
      "text/html": [
       "<div>\n",
       "<style scoped>\n",
       "    .dataframe tbody tr th:only-of-type {\n",
       "        vertical-align: middle;\n",
       "    }\n",
       "\n",
       "    .dataframe tbody tr th {\n",
       "        vertical-align: top;\n",
       "    }\n",
       "\n",
       "    .dataframe thead th {\n",
       "        text-align: right;\n",
       "    }\n",
       "</style>\n",
       "<table border=\"1\" class=\"dataframe\">\n",
       "  <thead>\n",
       "    <tr style=\"text-align: right;\">\n",
       "      <th></th>\n",
       "      <th>UserId:ItemId</th>\n",
       "      <th>Rating</th>\n",
       "    </tr>\n",
       "  </thead>\n",
       "  <tbody>\n",
       "    <tr>\n",
       "      <th>0</th>\n",
       "      <td>4baf0ac888:8b05db84f2</td>\n",
       "      <td>3</td>\n",
       "    </tr>\n",
       "    <tr>\n",
       "      <th>1</th>\n",
       "      <td>f3364fd7e6:8b05db84f2</td>\n",
       "      <td>2</td>\n",
       "    </tr>\n",
       "    <tr>\n",
       "      <th>2</th>\n",
       "      <td>72a8982204:8b05db84f2</td>\n",
       "      <td>5</td>\n",
       "    </tr>\n",
       "    <tr>\n",
       "      <th>3</th>\n",
       "      <td>d0171f7a9d:e40cec3cbe</td>\n",
       "      <td>5</td>\n",
       "    </tr>\n",
       "    <tr>\n",
       "      <th>4</th>\n",
       "      <td>e6dad08499:e40cec3cbe</td>\n",
       "      <td>5</td>\n",
       "    </tr>\n",
       "  </tbody>\n",
       "</table>\n",
       "</div>"
      ],
      "text/plain": [
       "           UserId:ItemId  Rating\n",
       "0  4baf0ac888:8b05db84f2       3\n",
       "1  f3364fd7e6:8b05db84f2       2\n",
       "2  72a8982204:8b05db84f2       5\n",
       "3  d0171f7a9d:e40cec3cbe       5\n",
       "4  e6dad08499:e40cec3cbe       5"
      ]
     },
     "execution_count": 2,
     "metadata": {},
     "output_type": "execute_result"
    }
   ],
   "source": [
    "avaliacoes = pd.read_csv(\"ratings.csv\")\n",
    "avaliacoes.head()"
   ]
  },
  {
   "cell_type": "markdown",
   "id": "080b221c-5265-4f13-8fcf-aee6d7b8151c",
   "metadata": {},
   "source": [
    "## Cálculo da média de cada item"
   ]
  },
  {
   "cell_type": "code",
   "execution_count": 3,
   "id": "4363b01f",
   "metadata": {},
   "outputs": [],
   "source": [
    "novas_colunas = avaliacoes[\"UserId:ItemId\"].str.split(\":\", n = 1, expand = True)\n",
    "\n",
    "avaliacoes[\"UserId\"]= novas_colunas[0] \n",
    "avaliacoes[\"ItemId\"]= novas_colunas[1] \n",
    "avaliacoes.drop(columns =[\"UserId:ItemId\"], inplace = True)"
   ]
  },
  {
   "cell_type": "code",
   "execution_count": 4,
   "id": "2d877bde-5c41-40dd-9ae2-b61fbe84e401",
   "metadata": {},
   "outputs": [
    {
     "data": {
      "text/plain": [
       "ItemId\n",
       "0000c77f48    5.0\n",
       "000215e0ca    1.0\n",
       "00022a9224    4.0\n",
       "0003d519bf    3.0\n",
       "0004b4d629    2.5\n",
       "             ... \n",
       "fffbc894ec    5.0\n",
       "fffce7315b    4.5\n",
       "fffd938521    2.6\n",
       "fffe241def    2.5\n",
       "fffe850a56    4.6\n",
       "Name: Rating, Length: 83767, dtype: float64"
      ]
     },
     "execution_count": 4,
     "metadata": {},
     "output_type": "execute_result"
    }
   ],
   "source": [
    "itens_media = avaliacoes.groupby('ItemId')['Rating'].mean()\n",
    "itens_media"
   ]
  },
  {
   "cell_type": "markdown",
   "id": "7fdf6956-a469-4a99-b1eb-09fd9617f34b",
   "metadata": {},
   "source": [
    "## Leitura das predições a serem realizadas"
   ]
  },
  {
   "cell_type": "code",
   "execution_count": 5,
   "id": "31a05b3e-b729-4c56-9e52-d22b1446cf41",
   "metadata": {},
   "outputs": [
    {
     "data": {
      "text/html": [
       "<div>\n",
       "<style scoped>\n",
       "    .dataframe tbody tr th:only-of-type {\n",
       "        vertical-align: middle;\n",
       "    }\n",
       "\n",
       "    .dataframe tbody tr th {\n",
       "        vertical-align: top;\n",
       "    }\n",
       "\n",
       "    .dataframe thead th {\n",
       "        text-align: right;\n",
       "    }\n",
       "</style>\n",
       "<table border=\"1\" class=\"dataframe\">\n",
       "  <thead>\n",
       "    <tr style=\"text-align: right;\">\n",
       "      <th></th>\n",
       "      <th>UserId:ItemId</th>\n",
       "    </tr>\n",
       "  </thead>\n",
       "  <tbody>\n",
       "    <tr>\n",
       "      <th>0</th>\n",
       "      <td>33ce7ee122:34cb28c370</td>\n",
       "    </tr>\n",
       "    <tr>\n",
       "      <th>1</th>\n",
       "      <td>eab9e065e5:34cb28c370</td>\n",
       "    </tr>\n",
       "    <tr>\n",
       "      <th>2</th>\n",
       "      <td>f785763291:34cb28c370</td>\n",
       "    </tr>\n",
       "    <tr>\n",
       "      <th>3</th>\n",
       "      <td>5f8185d75d:34cb28c370</td>\n",
       "    </tr>\n",
       "    <tr>\n",
       "      <th>4</th>\n",
       "      <td>0eeef87507:1dfcdde662</td>\n",
       "    </tr>\n",
       "  </tbody>\n",
       "</table>\n",
       "</div>"
      ],
      "text/plain": [
       "           UserId:ItemId\n",
       "0  33ce7ee122:34cb28c370\n",
       "1  eab9e065e5:34cb28c370\n",
       "2  f785763291:34cb28c370\n",
       "3  5f8185d75d:34cb28c370\n",
       "4  0eeef87507:1dfcdde662"
      ]
     },
     "execution_count": 5,
     "metadata": {},
     "output_type": "execute_result"
    }
   ],
   "source": [
    "alvos = pd.read_csv(\"targets.csv\")\n",
    "alvos.head()"
   ]
  },
  {
   "cell_type": "code",
   "execution_count": 6,
   "id": "a8e19018-7c95-474b-bda1-39faa3f7ff4e",
   "metadata": {},
   "outputs": [],
   "source": [
    "novas_colunas = alvos[\"UserId:ItemId\"].str.split(\":\", n = 1, expand = True)\n",
    "\n",
    "alvos[\"ItemId\"]= novas_colunas[1] "
   ]
  },
  {
   "cell_type": "code",
   "execution_count": 7,
   "id": "672040a6-0d3c-4ef0-a3dc-5b86c5b8a856",
   "metadata": {},
   "outputs": [
    {
     "data": {
      "text/html": [
       "<div>\n",
       "<style scoped>\n",
       "    .dataframe tbody tr th:only-of-type {\n",
       "        vertical-align: middle;\n",
       "    }\n",
       "\n",
       "    .dataframe tbody tr th {\n",
       "        vertical-align: top;\n",
       "    }\n",
       "\n",
       "    .dataframe thead th {\n",
       "        text-align: right;\n",
       "    }\n",
       "</style>\n",
       "<table border=\"1\" class=\"dataframe\">\n",
       "  <thead>\n",
       "    <tr style=\"text-align: right;\">\n",
       "      <th></th>\n",
       "      <th>UserId:ItemId</th>\n",
       "      <th>ItemId</th>\n",
       "    </tr>\n",
       "  </thead>\n",
       "  <tbody>\n",
       "    <tr>\n",
       "      <th>0</th>\n",
       "      <td>33ce7ee122:34cb28c370</td>\n",
       "      <td>34cb28c370</td>\n",
       "    </tr>\n",
       "    <tr>\n",
       "      <th>1</th>\n",
       "      <td>eab9e065e5:34cb28c370</td>\n",
       "      <td>34cb28c370</td>\n",
       "    </tr>\n",
       "    <tr>\n",
       "      <th>2</th>\n",
       "      <td>f785763291:34cb28c370</td>\n",
       "      <td>34cb28c370</td>\n",
       "    </tr>\n",
       "    <tr>\n",
       "      <th>3</th>\n",
       "      <td>5f8185d75d:34cb28c370</td>\n",
       "      <td>34cb28c370</td>\n",
       "    </tr>\n",
       "    <tr>\n",
       "      <th>4</th>\n",
       "      <td>0eeef87507:1dfcdde662</td>\n",
       "      <td>1dfcdde662</td>\n",
       "    </tr>\n",
       "    <tr>\n",
       "      <th>...</th>\n",
       "      <td>...</td>\n",
       "      <td>...</td>\n",
       "    </tr>\n",
       "    <tr>\n",
       "      <th>49625</th>\n",
       "      <td>435f4de184:8dba6546ea</td>\n",
       "      <td>8dba6546ea</td>\n",
       "    </tr>\n",
       "    <tr>\n",
       "      <th>49626</th>\n",
       "      <td>7593b90096:43d5d80b1b</td>\n",
       "      <td>43d5d80b1b</td>\n",
       "    </tr>\n",
       "    <tr>\n",
       "      <th>49627</th>\n",
       "      <td>88a5a164b1:43d5d80b1b</td>\n",
       "      <td>43d5d80b1b</td>\n",
       "    </tr>\n",
       "    <tr>\n",
       "      <th>49628</th>\n",
       "      <td>90df18a22b:58c3b27fe2</td>\n",
       "      <td>58c3b27fe2</td>\n",
       "    </tr>\n",
       "    <tr>\n",
       "      <th>49629</th>\n",
       "      <td>1892896766:f35bd0b55b</td>\n",
       "      <td>f35bd0b55b</td>\n",
       "    </tr>\n",
       "  </tbody>\n",
       "</table>\n",
       "<p>49630 rows × 2 columns</p>\n",
       "</div>"
      ],
      "text/plain": [
       "               UserId:ItemId      ItemId\n",
       "0      33ce7ee122:34cb28c370  34cb28c370\n",
       "1      eab9e065e5:34cb28c370  34cb28c370\n",
       "2      f785763291:34cb28c370  34cb28c370\n",
       "3      5f8185d75d:34cb28c370  34cb28c370\n",
       "4      0eeef87507:1dfcdde662  1dfcdde662\n",
       "...                      ...         ...\n",
       "49625  435f4de184:8dba6546ea  8dba6546ea\n",
       "49626  7593b90096:43d5d80b1b  43d5d80b1b\n",
       "49627  88a5a164b1:43d5d80b1b  43d5d80b1b\n",
       "49628  90df18a22b:58c3b27fe2  58c3b27fe2\n",
       "49629  1892896766:f35bd0b55b  f35bd0b55b\n",
       "\n",
       "[49630 rows x 2 columns]"
      ]
     },
     "execution_count": 7,
     "metadata": {},
     "output_type": "execute_result"
    }
   ],
   "source": [
    "alvos"
   ]
  },
  {
   "cell_type": "markdown",
   "id": "50683496-12bd-400b-b0a2-952fbed199ab",
   "metadata": {},
   "source": [
    "## Geração dos ratings"
   ]
  },
  {
   "cell_type": "code",
   "execution_count": 11,
   "id": "d83c95a2-3031-4da3-981b-850a384612f2",
   "metadata": {},
   "outputs": [],
   "source": [
    "arq_saida = open(\"non-personalized-results.csv\", \"w\")"
   ]
  },
  {
   "cell_type": "code",
   "execution_count": 12,
   "id": "2132ee8b-97b3-416e-a198-ef2483e1fccf",
   "metadata": {},
   "outputs": [],
   "source": [
    "arq_saida.write(\"UserId:ItemId,Rating\\n\")\n",
    "\n",
    "for linha in alvos.itertuples(index=False):\n",
    "    \n",
    "    rating = itens_media[linha[1]]\n",
    "    arq_saida.write(linha[0] + \",\" + str(rating)+\"\\n\")"
   ]
  },
  {
   "cell_type": "code",
   "execution_count": 13,
   "id": "9abd9411-878c-45db-8755-6296c7e28696",
   "metadata": {},
   "outputs": [],
   "source": [
    "arq_saida.close()"
   ]
  },
  {
   "cell_type": "code",
   "execution_count": null,
   "id": "22c821a6-7a80-49e3-be63-97c5c350d48e",
   "metadata": {},
   "outputs": [],
   "source": []
  }
 ],
 "metadata": {
  "kernelspec": {
   "display_name": "Python 3 (ipykernel)",
   "language": "python",
   "name": "python3"
  },
  "language_info": {
   "codemirror_mode": {
    "name": "ipython",
    "version": 3
   },
   "file_extension": ".py",
   "mimetype": "text/x-python",
   "name": "python",
   "nbconvert_exporter": "python",
   "pygments_lexer": "ipython3",
   "version": "3.10.12"
  }
 },
 "nbformat": 4,
 "nbformat_minor": 5
}
