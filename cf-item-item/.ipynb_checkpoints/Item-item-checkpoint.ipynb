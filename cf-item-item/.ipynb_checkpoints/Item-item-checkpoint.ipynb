{
 "cells": [
  {
   "cell_type": "markdown",
   "id": "e0f2bd5d-5395-4168-8bec-0c8bb6716f0d",
   "metadata": {},
   "source": [
    "## Bibliotecas"
   ]
  },
  {
   "cell_type": "code",
   "execution_count": 2,
   "id": "00f0f359-cf20-47b3-8813-95988a76a0de",
   "metadata": {},
   "outputs": [],
   "source": [
    "import numpy as np\n",
    "import pandas as pd"
   ]
  },
  {
   "cell_type": "markdown",
   "id": "a4cfe1bc-7a03-4538-9d57-eecdd3a2fa3f",
   "metadata": {},
   "source": [
    "## Leitura dos dados"
   ]
  },
  {
   "cell_type": "code",
   "execution_count": 3,
   "id": "ccdcf232-18ea-4758-b078-3fc9bd9350bc",
   "metadata": {},
   "outputs": [
    {
     "data": {
      "text/html": [
       "<div>\n",
       "<style scoped>\n",
       "    .dataframe tbody tr th:only-of-type {\n",
       "        vertical-align: middle;\n",
       "    }\n",
       "\n",
       "    .dataframe tbody tr th {\n",
       "        vertical-align: top;\n",
       "    }\n",
       "\n",
       "    .dataframe thead th {\n",
       "        text-align: right;\n",
       "    }\n",
       "</style>\n",
       "<table border=\"1\" class=\"dataframe\">\n",
       "  <thead>\n",
       "    <tr style=\"text-align: right;\">\n",
       "      <th></th>\n",
       "      <th>Rating</th>\n",
       "      <th>UserId</th>\n",
       "      <th>ItemId</th>\n",
       "    </tr>\n",
       "  </thead>\n",
       "  <tbody>\n",
       "    <tr>\n",
       "      <th>0</th>\n",
       "      <td>3</td>\n",
       "      <td>4baf0ac888</td>\n",
       "      <td>8b05db84f2</td>\n",
       "    </tr>\n",
       "    <tr>\n",
       "      <th>1</th>\n",
       "      <td>2</td>\n",
       "      <td>f3364fd7e6</td>\n",
       "      <td>8b05db84f2</td>\n",
       "    </tr>\n",
       "    <tr>\n",
       "      <th>2</th>\n",
       "      <td>5</td>\n",
       "      <td>72a8982204</td>\n",
       "      <td>8b05db84f2</td>\n",
       "    </tr>\n",
       "    <tr>\n",
       "      <th>3</th>\n",
       "      <td>5</td>\n",
       "      <td>d0171f7a9d</td>\n",
       "      <td>e40cec3cbe</td>\n",
       "    </tr>\n",
       "    <tr>\n",
       "      <th>4</th>\n",
       "      <td>5</td>\n",
       "      <td>e6dad08499</td>\n",
       "      <td>e40cec3cbe</td>\n",
       "    </tr>\n",
       "  </tbody>\n",
       "</table>\n",
       "</div>"
      ],
      "text/plain": [
       "   Rating      UserId      ItemId\n",
       "0       3  4baf0ac888  8b05db84f2\n",
       "1       2  f3364fd7e6  8b05db84f2\n",
       "2       5  72a8982204  8b05db84f2\n",
       "3       5  d0171f7a9d  e40cec3cbe\n",
       "4       5  e6dad08499  e40cec3cbe"
      ]
     },
     "execution_count": 3,
     "metadata": {},
     "output_type": "execute_result"
    }
   ],
   "source": [
    "avaliacoes = pd.read_csv(\"ratings.csv\")\n",
    "novas_colunas = avaliacoes[\"UserId:ItemId\"].str.split(\":\", n = 1, expand = True)\n",
    "\n",
    "avaliacoes[\"UserId\"]= novas_colunas[0] \n",
    "avaliacoes[\"ItemId\"]= novas_colunas[1] \n",
    "avaliacoes.drop(columns =[\"UserId:ItemId\"], inplace = True) \n",
    "avaliacoes.head()"
   ]
  },
  {
   "cell_type": "markdown",
   "id": "432d39d6-d6d2-4e7c-b06d-532100f71194",
   "metadata": {},
   "source": [
    "## Pré-processamento"
   ]
  },
  {
   "cell_type": "code",
   "execution_count": 4,
   "id": "beaacd34-fdd3-4ae5-be30-55426bbeefd2",
   "metadata": {},
   "outputs": [],
   "source": [
    "usuarios_media = avaliacoes.groupby('UserId')['Rating'].mean().to_dict()"
   ]
  },
  {
   "cell_type": "code",
   "execution_count": 5,
   "id": "1d92d900-4eaf-4874-9df7-1cd40e6aabdb",
   "metadata": {},
   "outputs": [],
   "source": [
    "media_usuario_coluna = avaliacoes.groupby('UserId')['Rating'].transform('mean')"
   ]
  },
  {
   "cell_type": "code",
   "execution_count": 6,
   "id": "2dd28f20-f2df-43d3-8568-36b83aa5bc6b",
   "metadata": {},
   "outputs": [],
   "source": [
    "avaliacoes['Rating - Mean'] = avaliacoes['Rating'] - media_usuario_coluna"
   ]
  },
  {
   "cell_type": "code",
   "execution_count": 7,
   "id": "0a06063a-ac0e-4817-8aac-1bc3f683c7fc",
   "metadata": {},
   "outputs": [],
   "source": [
    "avaliacoes_itens = {}\n",
    "\n",
    "for index, row in avaliacoes.iterrows():\n",
    "    user_id = row['UserId']\n",
    "    item_id = row['ItemId']\n",
    "    rating_norm = row['Rating - Mean']\n",
    "    \n",
    "    if item_id not in avaliacoes_itens:\n",
    "        avaliacoes_itens[item_id] = {}\n",
    "\n",
    "    avaliacoes_itens[item_id][user_id] = rating_norm"
   ]
  },
  {
   "cell_type": "code",
   "execution_count": 8,
   "id": "4c7ce3d1-5a65-4b2f-b4df-270bac1e98a9",
   "metadata": {},
   "outputs": [],
   "source": [
    "for item, avaliacoes_usuarios in avaliacoes_itens.items():\n",
    "    avaliacoes_itens[item][\"norma\"] = np.linalg.norm(list(avaliacoes_usuarios.values()))"
   ]
  },
  {
   "cell_type": "code",
   "execution_count": 9,
   "id": "a8c6a0ec-b6b4-4188-9d7c-d22500878391",
   "metadata": {},
   "outputs": [],
   "source": [
    "usuario_para_itens = avaliacoes.groupby('UserId')['ItemId'].apply(list).to_dict()"
   ]
  },
  {
   "cell_type": "code",
   "execution_count": 11,
   "id": "36922bea-f66b-4c75-a073-e09c4b39b16f",
   "metadata": {},
   "outputs": [],
   "source": [
    "alvos = pd.read_csv(\"targets.csv\")\n",
    "novas_colunas = alvos[\"UserId:ItemId\"].str.split(\":\", n = 1, expand = True)\n",
    "alvos[\"UserId\"] = novas_colunas[0]\n",
    "alvos[\"ItemId\"]= novas_colunas[1] \n",
    "alvos.drop(\"UserId:ItemId\", axis = 1, inplace = True)"
   ]
  },
  {
   "cell_type": "code",
   "execution_count": 12,
   "id": "e481bec1-c0cb-4678-bd74-ba4a3e47be07",
   "metadata": {},
   "outputs": [
    {
     "data": {
      "text/plain": [
       "21"
      ]
     },
     "execution_count": 12,
     "metadata": {},
     "output_type": "execute_result"
    }
   ],
   "source": [
    "arq_saida = open(\"item-item-results.csv\", \"w\")\n",
    "arq_saida.write(\"UserId:ItemId,Rating\\n\")"
   ]
  },
  {
   "cell_type": "markdown",
   "id": "2b2e0b69-ff00-4303-9055-6b255d6b55d6",
   "metadata": {},
   "source": [
    "## Filtragem Colaborativa Item-Item"
   ]
  },
  {
   "cell_type": "code",
   "execution_count": 13,
   "id": "499e9646-70ba-4162-afb1-7eb964092b9d",
   "metadata": {},
   "outputs": [],
   "source": [
    "def item_item_fc():\n",
    "\n",
    "    for linha in alvos.itertuples(index=False):\n",
    "    \n",
    "        usuario_alvo = linha[0]\n",
    "        item_alvo = linha[1]\n",
    "        \n",
    "        itens_consumidos = usuario_para_itens[usuario_alvo]\n",
    "    \n",
    "        numerador_avaliacao = 0\n",
    "        denominador_avaliacao = 0\n",
    "        \n",
    "        for item in itens_consumidos:\n",
    "    \n",
    "            numerador = 0\n",
    "            \n",
    "            usuarios_comuns = avaliacoes_itens[item].keys() & avaliacoes_itens[item_alvo].keys()\n",
    "            \n",
    "            for usuario in usuarios_comuns:\n",
    "                avaliacao_item_alvo = avaliacoes_itens[item_alvo][usuario]\n",
    "                avaliacao_item_consumidor = avaliacoes_itens[item][usuario]\n",
    "    \n",
    "                numerador += avaliacao_item_alvo*avaliacao_item_consumidor\n",
    "    \n",
    "            denominador = np.sqrt(avaliacoes_itens[item][\"norma\"])*np.sqrt(avaliacoes_itens[item_alvo][\"norma\"])\n",
    "    \n",
    "            if denominador != 0:\n",
    "                similaridade = numerador / denominador\n",
    "            else:\n",
    "                similaridade = 0\n",
    "    \n",
    "            if abs(similaridade) > 0.7:\n",
    "                numerador_avaliacao += similaridade * avaliacoes_itens[item][usuario_alvo]\n",
    "                denominador_avaliacao += abs(similaridade)\n",
    "        \n",
    "        avaliacao = usuarios_media[usuario_alvo]\n",
    "    \n",
    "        if denominador_avaliacao != 0:\n",
    "            avaliacao += numerador_avaliacao/denominador_avaliacao\n",
    "        \n",
    "        avaliacao = min(5, avaliacao)\n",
    "        avaliacao = max(1, avaliacao)\n",
    "        \n",
    "        arq_saida.write(usuario_alvo + \":\" + item_alvo + \",\" + str(avaliacao)+\"\\n\")"
   ]
  },
  {
   "cell_type": "code",
   "execution_count": 14,
   "id": "0a3d65b2-b624-4a67-8172-a403baa6e283",
   "metadata": {},
   "outputs": [],
   "source": [
    "item_item_fc()\n",
    "arq_saida.close()"
   ]
  },
  {
   "cell_type": "code",
   "execution_count": null,
   "id": "7e0556ef-e383-4b69-b07f-d00d3d79c6f9",
   "metadata": {},
   "outputs": [],
   "source": []
  }
 ],
 "metadata": {
  "kernelspec": {
   "display_name": "Python 3 (ipykernel)",
   "language": "python",
   "name": "python3"
  },
  "language_info": {
   "codemirror_mode": {
    "name": "ipython",
    "version": 3
   },
   "file_extension": ".py",
   "mimetype": "text/x-python",
   "name": "python",
   "nbconvert_exporter": "python",
   "pygments_lexer": "ipython3",
   "version": "3.10.12"
  }
 },
 "nbformat": 4,
 "nbformat_minor": 5
}
